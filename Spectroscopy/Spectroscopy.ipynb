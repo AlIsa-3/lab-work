{
 "cells": [
  {
   "cell_type": "code",
   "execution_count": 45,
   "metadata": {},
   "outputs": [],
   "source": [
    "import numpy as np\n",
    "import pandas as pd\n",
    "import matplotlib.pyplot as plt\n"
   ]
  },
  {
   "cell_type": "markdown",
   "metadata": {},
   "source": [
    "Define Errors/Values"
   ]
  },
  {
   "cell_type": "code",
   "execution_count": 46,
   "metadata": {},
   "outputs": [],
   "source": [
    "dAngle = 1/60 #### 1 arcsecond\n",
    "dWavelength = 0 #assuming absolute value given\n",
    "dOrder = 0 #assuming order has no error"
   ]
  },
  {
   "cell_type": "code",
   "execution_count": 47,
   "metadata": {},
   "outputs": [],
   "source": [
    "sim_dAngle = 1/3600"
   ]
  },
  {
   "cell_type": "markdown",
   "metadata": {},
   "source": [
    "Functions"
   ]
  },
  {
   "cell_type": "code",
   "execution_count": 48,
   "metadata": {},
   "outputs": [],
   "source": [
    "def Angle_Convert(deg,arcmin,arcsec):\n",
    "    \"\"\"Returns angles in degrees when given angles degrees arcminutes and arcseconds\"\"\"\n",
    "    return (deg + (arcmin/60) + (arcsec / 3600)) "
   ]
  },
  {
   "cell_type": "code",
   "execution_count": 49,
   "metadata": {},
   "outputs": [],
   "source": [
    "def Grating_Constant(wavelength,angle,order):\n",
    "    \"\"\"angle is angle in degrees\"\"\"\n",
    "    return (np.sin(angle*(np.pi/180))/(wavelength*order))"
   ]
  },
  {
   "cell_type": "code",
   "execution_count": 50,
   "metadata": {},
   "outputs": [],
   "source": [
    "def GratingConstant_Error(dAngle,dWavelength,dOrder,GrateConst,Angle,Wavelength,Order):\n",
    "    return GrateConst*(np.sqrt(np.sin((dAngle/Angle)*(np.pi/180)**2+(dOrder/Order)**2+(dWavelength/Wavelength)**2)))"
   ]
  },
  {
   "cell_type": "code",
   "execution_count": 51,
   "metadata": {},
   "outputs": [],
   "source": [
    "def GetWavelength(d,angle,order):\n",
    "    return ((d*np.sin(angle*(np.pi/180)))/order)"
   ]
  },
  {
   "cell_type": "code",
   "execution_count": 52,
   "metadata": {},
   "outputs": [],
   "source": [
    "def GetWavelength_Error(wavelength,d,angle,order,dAngle,dOrder):\n",
    "    return  wavelength* np.sqrt(\n",
    "        ((d*np.sin((dAngle/angle)**2)) + ((dOrder/order)**2))\n",
    "\n",
    "    )"
   ]
  },
  {
   "cell_type": "markdown",
   "metadata": {},
   "source": [
    "Wavelengths (nanometers)"
   ]
  },
  {
   "cell_type": "code",
   "execution_count": 53,
   "metadata": {},
   "outputs": [],
   "source": [
    "Sodium_Lamp_Wavelengths = {\n",
    "    \"Green\":568.8205,\n",
    "    \"Red\":616,\n",
    "    \"Dark Yellow\":589.5924,\n",
    "    \"Light Yellow\":588.995,\n",
    "    \"Dark Blue\":466.8557\n",
    "}"
   ]
  },
  {
   "cell_type": "code",
   "execution_count": 54,
   "metadata": {},
   "outputs": [],
   "source": [
    "Mercury_Lamp_Wavelengths = {\n",
    "    \"Dark Blue\":404.656,\n",
    "    \"Light Blue\":435.835,\n",
    "    \"Dark Green\":546.074,\n",
    "    \"Yellow\":576.959\n",
    "}"
   ]
  },
  {
   "cell_type": "code",
   "execution_count": 55,
   "metadata": {},
   "outputs": [],
   "source": [
    "# Approximate\n",
    "\n",
    "Cadmium_Lamp_Wavelengths = {\n",
    "    \"Dark Blue\":467.815,\n",
    "    \"Light Blue\":479.912,\n",
    "    \"Teal\":508.582,\n",
    "    \"Dark Red\":609.910,\n",
    "    \"Light Red\":643.847,\n",
    "}"
   ]
  },
  {
   "cell_type": "code",
   "execution_count": 56,
   "metadata": {},
   "outputs": [],
   "source": [
    "# Approximate\n",
    "\n",
    "\n",
    "Helium_wavelengths = {\n",
    "    \n",
    "    \"Dark Blue\":447.148,\n",
    "    \"Dark Teal\":471.314 ,\n",
    "    \"Teal\":492.193,\n",
    "    \"Yellow\":587.562,\n",
    "    \"Red\":667.815\n",
    "}"
   ]
  },
  {
   "cell_type": "markdown",
   "metadata": {},
   "source": [
    "Angles in Degrees (First Order)"
   ]
  },
  {
   "cell_type": "markdown",
   "metadata": {},
   "source": [
    "Simulation"
   ]
  },
  {
   "cell_type": "code",
   "execution_count": 57,
   "metadata": {},
   "outputs": [],
   "source": [
    "UnknownGrating_Helium_Angles = {\"Purple\":np.mean([Angle_Convert(12,0,20),Angle_Convert(11,0,50)]),\n",
    "                        \"Dark Blue\":np.mean([Angle_Convert(12,39,40),Angle_Convert(12,39,0)]),\n",
    "                        \"Dark Teal\":np.mean([Angle_Convert(13,14,0),Angle_Convert(12,39,0)]),\n",
    "                        \"Teal\":np.mean([Angle_Convert(13,29,0),Angle_Convert(13,48,20)]),\n",
    "                        \"Yellow\":np.mean([Angle_Convert(15,51,20),Angle_Convert(15,50,0)]),\n",
    "                        \"Red\":np.mean([Angle_Convert(18,5,40),Angle_Convert(18,5,0)])\n",
    "                        }\n"
   ]
  },
  {
   "cell_type": "code",
   "execution_count": 58,
   "metadata": {},
   "outputs": [],
   "source": [
    "Simulation_Cadmium_300_Angles = {\n",
    "    \"Dark Blue\":np.mean([Angle_Convert(8,4,30),Angle_Convert(8,3,40)]),\n",
    "    \"Light Blue\":np.mean([Angle_Convert(8,17,0),Angle_Convert(8,16,0)]),\n",
    "    \"Teal\":np.mean([Angle_Convert(8,47,30),Angle_Convert(8,46,20)]),\n",
    "    \"Dark Red\":np.mean([Angle_Convert(10,32,20),Angle_Convert(10,31,40)]),\n",
    "    \"Light Red\":np.mean([Angle_Convert(11,8,20),Angle_Convert(11,6,40)])\n",
    "}"
   ]
  },
  {
   "cell_type": "code",
   "execution_count": 59,
   "metadata": {},
   "outputs": [],
   "source": [
    "Simulation_Sodium_300_Angles = {\n",
    "    \"Dark Yellow\":np.mean([Angle_Convert(10,11,0),Angle_Convert(10,10,20)]),\n",
    "    \"Light Yellow\":np.mean([Angle_Convert(9,50,0),Angle_Convert(9,49,0)])\n",
    "}"
   ]
  },
  {
   "cell_type": "code",
   "execution_count": 60,
   "metadata": {},
   "outputs": [],
   "source": [
    "Simulation_Sodium_600_Angles = {\n",
    "    \"Dark Yellow\":np.mean([Angle_Convert(20,41,20),Angle_Convert(20,42,0)]),\n",
    "    \"Light Yellow\":np.mean([Angle_Convert(19,57,0),Angle_Convert(19,57,40)])\n",
    "}"
   ]
  },
  {
   "cell_type": "markdown",
   "metadata": {},
   "source": [
    "Physical"
   ]
  },
  {
   "cell_type": "code",
   "execution_count": 61,
   "metadata": {},
   "outputs": [],
   "source": [
    "Mercury_Error = 0.1 \n",
    "Mercury_Grating_Distance = 1/600*(1e6)\n",
    "\n",
    "Mercury_Lamp_Physical_Angles = {\n",
    "    \"Purple\":np.mean([15.8,14.1]),\n",
    "    \"Dark Blue\":np.mean([16.8,15.2]),\n",
    "    \"Light Blue\":np.mean([17.2,16.8]),\n",
    "    \"Dark Green\":np.mean([18.1,17.4]),\n",
    "    \"Light Green\":np.mean([19.1,18.9]),\n",
    "    \"Yellow\":np.mean([20.8,19.1])\n",
    "}"
   ]
  },
  {
   "cell_type": "code",
   "execution_count": 62,
   "metadata": {},
   "outputs": [],
   "source": [
    "Sodium_Lamp_Physical_Grating_Distance = 1/300*(1e6)\n",
    "\n",
    "Sodium_Lamp_Physical_Angles = {\n",
    "    \"Green\":np.mean([Angle_Convert(10,2,0),Angle_Convert(10,19,0),10.567,Angle_Convert(9,32,0),Angle_Convert(10,21,0),Angle_Convert(9,50,0)]),\n",
    "    \"Red\":np.mean([Angle_Convert(10,40,0),Angle_Convert(10,31,0),Angle_Convert(10,40,0),Angle_Convert(10,31,0),Angle_Convert(10,39,0),Angle_Convert(10,32,0)])\n",
    "}"
   ]
  },
  {
   "cell_type": "markdown",
   "metadata": {},
   "source": [
    "Task 1"
   ]
  },
  {
   "cell_type": "code",
   "execution_count": 63,
   "metadata": {},
   "outputs": [
    {
     "data": {
      "text/plain": [
       "np.float64(303.42931053264647)"
      ]
     },
     "execution_count": 63,
     "metadata": {},
     "output_type": "execute_result"
    }
   ],
   "source": [
    "Grating_Constant_Verified = np.mean([Grating_Constant(568.8205*(1e-6),Sodium_Lamp_Physical_Angles[\"Green\"],1),Grating_Constant(616*(1e-6),Sodium_Lamp_Physical_Angles[\"Red\"],1)])\n",
    "Grating_Constant_Verified"
   ]
  },
  {
   "cell_type": "code",
   "execution_count": 64,
   "metadata": {},
   "outputs": [
    {
     "data": {
      "text/plain": [
       "np.float64(0.21257270581051063)"
      ]
     },
     "execution_count": 64,
     "metadata": {},
     "output_type": "execute_result"
    }
   ],
   "source": [
    "GratingConstantError = GratingConstant_Error(dAngle,dWavelength,dOrder,Grating_Constant_Verified,Sodium_Lamp_Physical_Angles[\"Green\"],Sodium_Lamp_Wavelengths[\"Green\"],1)\n",
    "GratingConstantError += GratingConstant_Error(dAngle,dWavelength,dOrder,Grating_Constant_Verified,Sodium_Lamp_Physical_Angles[\"Red\"],Sodium_Lamp_Wavelengths[\"Red\"],1)\n",
    "GratingConstantError/2"
   ]
  },
  {
   "cell_type": "markdown",
   "metadata": {},
   "source": [
    "Task 2 Mercury Wavelength Verification"
   ]
  },
  {
   "cell_type": "code",
   "execution_count": 65,
   "metadata": {},
   "outputs": [],
   "source": [
    "Mercury_d = 1/600 * (1e6)\n",
    "\n",
    "Mercury_Calculated_wavelengths = {\n",
    "    \"Dark Blue\":GetWavelength(Mercury_d,Mercury_Lamp_Physical_Angles[\"Dark Blue\"],1),\n",
    "    \"Light Blue\":GetWavelength(Mercury_d,Mercury_Lamp_Physical_Angles[\"Light Blue\"],1),\n",
    "    \"Dark Green\":GetWavelength(Mercury_d,Mercury_Lamp_Physical_Angles[\"Dark Green\"],1),\n",
    "    \"Yellow\":GetWavelength(Mercury_d,Mercury_Lamp_Physical_Angles[\"Yellow\"],1)\n",
    "}"
   ]
  },
  {
   "cell_type": "code",
   "execution_count": 66,
   "metadata": {},
   "outputs": [],
   "source": [
    "Mercury_Calculated_Wavelengths_Errors = {\n",
    "\"Dark Blue\":GetWavelength_Error(Mercury_Calculated_wavelengths[\"Dark Blue\"],Mercury_d,Mercury_Lamp_Physical_Angles[\"Dark Blue\"],1,dAngle,dOrder),\n",
    "\"Light Blue\":GetWavelength_Error(Mercury_Calculated_wavelengths[\"Light Blue\"],Mercury_d,Mercury_Lamp_Physical_Angles[\"Light Blue\"],1,dAngle,dOrder),\n",
    "\"Dark Green\":GetWavelength_Error(Mercury_Calculated_wavelengths[\"Dark Green\"],Mercury_d,Mercury_Lamp_Physical_Angles[\"Dark Green\"],1,dAngle,dOrder),\n",
    "\"Yellow\":GetWavelength_Error(Mercury_Calculated_wavelengths[\"Yellow\"],Mercury_d,Mercury_Lamp_Physical_Angles[\"Yellow\"],1,dAngle,dOrder)\n",
    "\n",
    "}"
   ]
  },
  {
   "cell_type": "code",
   "execution_count": 67,
   "metadata": {},
   "outputs": [
    {
     "name": "stdout",
     "output_type": "stream",
     "text": [
      "{'Dark Blue': np.float64(459.395593028332), 'Light Blue': np.float64(487.2861745378946), 'Dark Green': np.float64(508.10716504668466), 'Yellow': np.float64(568.6666278144531)}\n",
      "{'Dark Blue': np.float64(19.536194322961528), 'Light Blue': np.float64(19.503308600172133), 'Dark Green': np.float64(19.477359765515068), 'Yellow': np.float64(19.394918851218954)}\n"
     ]
    }
   ],
   "source": [
    "print(Mercury_Calculated_wavelengths)\n",
    "print(Mercury_Calculated_Wavelengths_Errors)"
   ]
  },
  {
   "cell_type": "markdown",
   "metadata": {},
   "source": [
    "Task 3 Offset Error"
   ]
  },
  {
   "cell_type": "code",
   "execution_count": 68,
   "metadata": {},
   "outputs": [],
   "source": [
    "def Offset(wavelength,trueWavelength):\n",
    "    return ((wavelength-trueWavelength)/trueWavelength)*100"
   ]
  },
  {
   "cell_type": "code",
   "execution_count": 69,
   "metadata": {},
   "outputs": [],
   "source": [
    "Sodium_Lamp_Grating_600 = 1/600*(1e6)\n",
    "\n",
    "Simulation_Sodium_Wavelengths = {\n",
    "    \"Dark Yellow 300\":GetWavelength(Sodium_Lamp_Physical_Grating_Distance,Simulation_Sodium_300_Angles[\"Dark Yellow\"],1),\n",
    "    \"Dark Yellow 600\":GetWavelength(Sodium_Lamp_Grating_600,Simulation_Sodium_600_Angles[\"Dark Yellow\"],1),\n",
    "    \"Light Yellow 300\":GetWavelength(Sodium_Lamp_Physical_Grating_Distance,Simulation_Sodium_300_Angles[\"Light Yellow\"],1),\n",
    "    \"Light Yellow 600\":GetWavelength(Sodium_Lamp_Grating_600,Simulation_Sodium_600_Angles[\"Light Yellow\"],1)\n",
    "   \n",
    "}"
   ]
  },
  {
   "cell_type": "code",
   "execution_count": 70,
   "metadata": {},
   "outputs": [
    {
     "name": "stdout",
     "output_type": "stream",
     "text": [
      "{'Dark Yellow 300': np.float64(589.010019377885), 'Dark Yellow 600': np.float64(588.9735648415709), 'Light Yellow 300': np.float64(568.7981608574622), 'Light Yellow 600': np.float64(568.8185319299456)}\n"
     ]
    }
   ],
   "source": [
    "print(Simulation_Sodium_Wavelengths)"
   ]
  },
  {
   "cell_type": "code",
   "execution_count": 71,
   "metadata": {},
   "outputs": [],
   "source": [
    "Simulation_Sodium_Wavelength_Means = {\n",
    "     \"Dark Yellow Mean\":np.mean([Simulation_Sodium_Wavelengths[\"Dark Yellow 300\"],Simulation_Sodium_Wavelengths[\"Dark Yellow 600\"]]),\n",
    "     \"Light Yellow Mean\":np.mean([Simulation_Sodium_Wavelengths[\"Light Yellow 300\"],Simulation_Sodium_Wavelengths[\"Light Yellow 600\"]]),\n",
    "}"
   ]
  },
  {
   "cell_type": "code",
   "execution_count": 72,
   "metadata": {},
   "outputs": [
    {
     "name": "stdout",
     "output_type": "stream",
     "text": [
      "{'Dark Yellow Mean': np.float64(588.991792109728), 'Light Yellow Mean': np.float64(568.8083463937039)}\n"
     ]
    }
   ],
   "source": [
    "print(Simulation_Sodium_Wavelength_Means)"
   ]
  },
  {
   "cell_type": "code",
   "execution_count": 73,
   "metadata": {},
   "outputs": [
    {
     "data": {
      "text/plain": [
       "np.float64(-1.7645865359813477)"
      ]
     },
     "execution_count": 73,
     "metadata": {},
     "output_type": "execute_result"
    }
   ],
   "source": [
    "mean_percent_difference = np.mean(np.mean([Offset(Simulation_Sodium_Wavelength_Means['Dark Yellow Mean'],Sodium_Lamp_Wavelengths['Dark Yellow'])\n",
    ",Offset(Simulation_Sodium_Wavelength_Means['Light Yellow Mean'],Sodium_Lamp_Wavelengths['Light Yellow'])]))\n",
    "mean_percent_difference"
   ]
  },
  {
   "cell_type": "code",
   "execution_count": 74,
   "metadata": {},
   "outputs": [
    {
     "name": "stdout",
     "output_type": "stream",
     "text": [
      "The mean Percent Difference between the true wavelength and the measured wavelength is -1.7645865359813477\n"
     ]
    }
   ],
   "source": [
    "print(f\"The mean Percent Difference between the true wavelength and the measured wavelength is {mean_percent_difference}\")\n"
   ]
  },
  {
   "cell_type": "code",
   "execution_count": 75,
   "metadata": {},
   "outputs": [
    {
     "name": "stdout",
     "output_type": "stream",
     "text": [
      "The mean Percent Difference between the true wavelength and the measured wavelength is 2.0\n"
     ]
    },
    {
     "data": {
      "text/plain": [
       "np.float64(-3.4273047489870185)"
      ]
     },
     "execution_count": 75,
     "metadata": {},
     "output_type": "execute_result"
    }
   ],
   "source": [
    "print(f\"The mean Percent Difference between the true wavelength and the measured wavelength is {np.mean([1,3])}\")\n",
    "   \n",
    "Offset(Simulation_Sodium_Wavelength_Means[\"Dark Yellow Mean\"],Sodium_Lamp_Wavelengths[\"Dark Yellow\"])\n",
    "Offset(Simulation_Sodium_Wavelength_Means[\"Light Yellow Mean\"],Sodium_Lamp_Wavelengths[\"Light Yellow\"])"
   ]
  },
  {
   "cell_type": "markdown",
   "metadata": {},
   "source": [
    "Task 4 Cadmium Lamp Verification"
   ]
  },
  {
   "cell_type": "code",
   "execution_count": 76,
   "metadata": {},
   "outputs": [],
   "source": [
    "Simulated_Cadmium_Wavelengths = {\n",
    "    \"Dark Blue\":GetWavelength(Sodium_Lamp_Physical_Grating_Distance,Simulation_Cadmium_300_Angles[\"Dark Blue\"],1),\n",
    "    \"Light Blue\":GetWavelength(Sodium_Lamp_Physical_Grating_Distance,Simulation_Cadmium_300_Angles[\"Light Blue\"],1),\n",
    "    \"Teal\":GetWavelength(Sodium_Lamp_Physical_Grating_Distance,Simulation_Cadmium_300_Angles[\"Teal\"],1),\n",
    "    \"Dark Red\":GetWavelength(Sodium_Lamp_Physical_Grating_Distance,Simulation_Cadmium_300_Angles[\"Dark Red\"],1),\n",
    "    \"Light Red\":GetWavelength(Sodium_Lamp_Physical_Grating_Distance,Simulation_Cadmium_300_Angles[\"Light Red\"],1)\n",
    "}"
   ]
  },
  {
   "cell_type": "code",
   "execution_count": 77,
   "metadata": {},
   "outputs": [],
   "source": [
    "Simulated_Cadmium_Wavelength_Errors = {\n",
    "    \"Dark Blue\":GetWavelength_Error(Simulated_Cadmium_Wavelengths[\"Dark Blue\"],Sodium_Lamp_Physical_Grating_Distance,Simulation_Cadmium_300_Angles[\"Dark Blue\"],1,sim_dAngle,dOrder),\n",
    "    \"Light Blue\":GetWavelength_Error(Simulated_Cadmium_Wavelengths[\"Light Blue\"],Sodium_Lamp_Physical_Grating_Distance,Simulation_Cadmium_300_Angles[\"Light Blue\"],1,sim_dAngle,dOrder),\n",
    "    \"Teal\":GetWavelength_Error(Simulated_Cadmium_Wavelengths[\"Teal\"],Sodium_Lamp_Physical_Grating_Distance,Simulation_Cadmium_300_Angles[\"Teal\"],1,sim_dAngle,dOrder),\n",
    "    \"Dark Red\":GetWavelength_Error(Simulated_Cadmium_Wavelengths[\"Dark Red\"],Sodium_Lamp_Physical_Grating_Distance,Simulation_Cadmium_300_Angles[\"Dark Red\"],1,sim_dAngle,dOrder),\n",
    "    \"Light Red\":GetWavelength_Error(Simulated_Cadmium_Wavelengths[\"Light Red\"],Sodium_Lamp_Physical_Grating_Distance,Simulation_Cadmium_300_Angles[\"Light Red\"],1,sim_dAngle,dOrder)\n",
    "}"
   ]
  },
  {
   "cell_type": "code",
   "execution_count": 78,
   "metadata": {},
   "outputs": [
    {
     "name": "stdout",
     "output_type": "stream",
     "text": [
      "{'Dark Blue': np.float64(467.83078833638456), 'Light Blue': np.float64(479.74808398888587), 'Teal': np.float64(508.91469792456354), 'Dark Red': np.float64(609.3584304575381), 'Light Red': np.float64(643.1670596113235)}\n",
      "\n",
      "\n",
      "{'Dark Blue': np.float64(0.9299439889179082), 'Light Blue': np.float64(0.9297841068620022), 'Teal': np.float64(0.9293754162305989), 'Dark Red': np.float64(0.927777568189946), 'Light Red': np.float64(0.9271727215992451)}\n"
     ]
    }
   ],
   "source": [
    "print(Simulated_Cadmium_Wavelengths)\n",
    "print('\\n')\n",
    "print(Simulated_Cadmium_Wavelength_Errors)"
   ]
  },
  {
   "cell_type": "markdown",
   "metadata": {},
   "source": [
    "Task 5 Unknown Grating Constant"
   ]
  },
  {
   "cell_type": "code",
   "execution_count": 79,
   "metadata": {},
   "outputs": [],
   "source": [
    "Sim_Hel_Wavelength = np.array([447.148,471.314,492.193,587.562,667.815])\n",
    "Sim_Hel_Angles = np.array([UnknownGrating_Helium_Angles[\"Dark Blue\"],UnknownGrating_Helium_Angles[\"Dark Teal\"],UnknownGrating_Helium_Angles[\"Teal\"],UnknownGrating_Helium_Angles[\"Yellow\"],UnknownGrating_Helium_Angles[\"Red\"]])"
   ]
  },
  {
   "cell_type": "code",
   "execution_count": 80,
   "metadata": {},
   "outputs": [
    {
     "data": {
      "text/plain": [
       "Text(0, 0, 'Plot of Sin(θ) against λ (nm) where the gradient of the curve is equal to the grating constant * the order of the spectrum')"
      ]
     },
     "execution_count": 80,
     "metadata": {},
     "output_type": "execute_result"
    },
    {
     "data": {
      "image/png": "[encoded data removed]",
      "text/plain": [
       "<Figure size 800x800 with 1 Axes>"
      ]
     },
     "metadata": {},
     "output_type": "display_data"
    }
   ],
   "source": [
    "plt.figure(figsize=(8,8))\n",
    "plt.plot(Sim_Hel_Wavelength,np.sin(Sim_Hel_Angles*(np.pi/180)))\n",
    "plt.ylabel(\"Sin(θ)\")\n",
    "plt.xlabel(\"λ (nm)\")\n",
    "plt.figtext(0,0,\"Plot of Sin(θ) against λ (nm) where the gradient of the curve is equal to the grating constant * the order of the spectrum\")"
   ]
  },
  {
   "cell_type": "code",
   "execution_count": 81,
   "metadata": {},
   "outputs": [
    {
     "data": {
      "text/plain": [
       "np.float64(407.7719754985145)"
      ]
     },
     "execution_count": 81,
     "metadata": {},
     "output_type": "execute_result"
    }
   ],
   "source": [
    "np.mean(np.gradient(np.sin(Sim_Hel_Angles*(np.pi/180)),Sim_Hel_Wavelength*1e-6))"
   ]
  },
  {
   "cell_type": "code",
   "execution_count": 82,
   "metadata": {},
   "outputs": [],
   "source": [
    "Data = pd.DataFrame({\"Wavelength_nm\":Sim_Hel_Wavelength,\n",
    "                     \"Angles\":Sim_Hel_Angles})"
   ]
  },
  {
   "cell_type": "code",
   "execution_count": 83,
   "metadata": {},
   "outputs": [
    {
     "data": {
      "text/plain": [
       "array([2.90524595e-02, 4.19049992e+02])"
      ]
     },
     "execution_count": 83,
     "metadata": {},
     "output_type": "execute_result"
    }
   ],
   "source": [
    "coefficients = np.polynomial.polynomial.polyfit(Data[\"Wavelength_nm\"]*1e-6,np.sin(Data[\"Angles\"]*(np.pi/180)),1)\n",
    "coefficients"
   ]
  },
  {
   "cell_type": "code",
   "execution_count": 84,
   "metadata": {},
   "outputs": [],
   "source": [
    "cov = (np.cov(Data[\"Wavelength_nm\"]*1e-6,np.sin(Data[\"Angles\"]*(np.pi/180))))"
   ]
  },
  {
   "cell_type": "code",
   "execution_count": 85,
   "metadata": {},
   "outputs": [
    {
     "data": {
      "text/plain": [
       "np.float64(7.122346063869761e-06)"
      ]
     },
     "execution_count": 85,
     "metadata": {},
     "output_type": "execute_result"
    }
   ],
   "source": [
    "cov[0][1] + cov[1][0]"
   ]
  },
  {
   "cell_type": "code",
   "execution_count": 86,
   "metadata": {},
   "outputs": [
    {
     "data": {
      "text/latex": [
       "$x \\mapsto \\text{0.02905246} + \\text{419.04999199}\\,x$"
      ],
      "text/plain": [
       "Polynomial([2.90524595e-02, 4.19049992e+02], domain=[-1.,  1.], window=[-1.,  1.], symbol='x')"
      ]
     },
     "execution_count": 86,
     "metadata": {},
     "output_type": "execute_result"
    }
   ],
   "source": [
    "np.polynomial.polynomial.Polynomial(coefficients,)"
   ]
  },
  {
   "cell_type": "code",
   "execution_count": 87,
   "metadata": {},
   "outputs": [
    {
     "data": {
      "text/html": [
       "<div>\n",
       "<style scoped>\n",
       "    .dataframe tbody tr th:only-of-type {\n",
       "        vertical-align: middle;\n",
       "    }\n",
       "\n",
       "    .dataframe tbody tr th {\n",
       "        vertical-align: top;\n",
       "    }\n",
       "\n",
       "    .dataframe thead th {\n",
       "        text-align: right;\n",
       "    }\n",
       "</style>\n",
       "<table border=\"1\" class=\"dataframe\">\n",
       "  <thead>\n",
       "    <tr style=\"text-align: right;\">\n",
       "      <th></th>\n",
       "      <th>Wavelength_nm</th>\n",
       "      <th>Angles</th>\n",
       "    </tr>\n",
       "  </thead>\n",
       "  <tbody>\n",
       "    <tr>\n",
       "      <th>count</th>\n",
       "      <td>5.000000</td>\n",
       "      <td>5.000000</td>\n",
       "    </tr>\n",
       "    <tr>\n",
       "      <th>mean</th>\n",
       "      <td>533.206400</td>\n",
       "      <td>14.635000</td>\n",
       "    </tr>\n",
       "    <tr>\n",
       "      <th>std</th>\n",
       "      <td>92.185713</td>\n",
       "      <td>2.299939</td>\n",
       "    </tr>\n",
       "    <tr>\n",
       "      <th>min</th>\n",
       "      <td>447.148000</td>\n",
       "      <td>12.655556</td>\n",
       "    </tr>\n",
       "    <tr>\n",
       "      <th>25%</th>\n",
       "      <td>471.314000</td>\n",
       "      <td>12.941667</td>\n",
       "    </tr>\n",
       "    <tr>\n",
       "      <th>50%</th>\n",
       "      <td>492.193000</td>\n",
       "      <td>13.644444</td>\n",
       "    </tr>\n",
       "    <tr>\n",
       "      <th>75%</th>\n",
       "      <td>587.562000</td>\n",
       "      <td>15.844444</td>\n",
       "    </tr>\n",
       "    <tr>\n",
       "      <th>max</th>\n",
       "      <td>667.815000</td>\n",
       "      <td>18.088889</td>\n",
       "    </tr>\n",
       "  </tbody>\n",
       "</table>\n",
       "</div>"
      ],
      "text/plain": [
       "       Wavelength_nm     Angles\n",
       "count       5.000000   5.000000\n",
       "mean      533.206400  14.635000\n",
       "std        92.185713   2.299939\n",
       "min       447.148000  12.655556\n",
       "25%       471.314000  12.941667\n",
       "50%       492.193000  13.644444\n",
       "75%       587.562000  15.844444\n",
       "max       667.815000  18.088889"
      ]
     },
     "execution_count": 87,
     "metadata": {},
     "output_type": "execute_result"
    }
   ],
   "source": [
    "Data.describe()"
   ]
  },
  {
   "cell_type": "code",
   "execution_count": 88,
   "metadata": {},
   "outputs": [],
   "source": [
    "#GetWavelength_Error(Sim_Hel_Wavelength,)"
   ]
  }
 ],
 "metadata": {
  "kernelspec": {
   "display_name": "lab",
   "language": "python",
   "name": "python3"
  },
  "language_info": {
   "codemirror_mode": {
    "name": "ipython",
    "version": 3
   },
   "file_extension": ".py",
   "mimetype": "text/x-python",
   "name": "python",
   "nbconvert_exporter": "python",
   "pygments_lexer": "ipython3",
   "version": "3.13.2"
  }
 },
 "nbformat": 4,
 "nbformat_minor": 2
}
