{
 "cells": [
  {
   "cell_type": "markdown",
   "metadata": {},
   "source": [
    "# PHYS5200 Experiment 4 - Gyroscopes"
   ]
  },
  {
   "cell_type": "markdown",
   "metadata": {},
   "source": [
    "### Imports"
   ]
  },
  {
   "cell_type": "code",
   "execution_count": 80,
   "metadata": {},
   "outputs": [],
   "source": [
    "import numpy as np\n",
    "import pandas as pd\n",
    "import matplotlib.pyplot as plt"
   ]
  },
  {
   "cell_type": "markdown",
   "metadata": {},
   "source": [
    "## Section 1 Moment of Inertia of Weighted Aluminium Disc"
   ]
  },
  {
   "cell_type": "markdown",
   "metadata": {},
   "source": [
    "### Importing Data"
   ]
  },
  {
   "cell_type": "code",
   "execution_count": 81,
   "metadata": {},
   "outputs": [],
   "source": [
    "mass_error = 0.01 #grams\n",
    "length_error = 0.02 #cm\n",
    "\n",
    "masses = {\n",
    "    \"mass_1\": np.array([96.6,96.39,96.59]), #grams\n",
    "    \"mass_2\": np.array([97.11,97.1,97.11]), #grams\n",
    "    \"masses_with_screws\": np.array([197.06,197.06,197.05]), #grams\n",
    "    \"screw_mass\": np.array([3.34,3.34,3.35]) #grams\n",
    "}\n",
    "\n",
    "R_wt = np.array([16.1,16.2,16.3]) # Distance from mass to center axis in cm\n",
    "disc_period_with_masses = np.array([1.19,1.29,1.22,1.25,1.22,1.22,1.19,1.16,1.22,1.25]) # seconds\n"
   ]
  },
  {
   "cell_type": "code",
   "execution_count": 82,
   "metadata": {},
   "outputs": [],
   "source": [
    "mean_disc_period_with_masses = np.mean(disc_period_with_masses)\n",
    "mean_R_wt = np.mean(R_wt)\n",
    "mean_mass_with_screws = np.mean(masses[\"masses_with_screws\"])"
   ]
  },
  {
   "cell_type": "markdown",
   "metadata": {},
   "source": [
    "### Convert Data to SI Units"
   ]
  },
  {
   "cell_type": "code",
   "execution_count": 83,
   "metadata": {},
   "outputs": [
    {
     "data": {
      "text/plain": [
       "np.float64(197.0566666666667)"
      ]
     },
     "execution_count": 83,
     "metadata": {},
     "output_type": "execute_result"
    }
   ],
   "source": [
    "np.mean(masses[\"masses_with_screws\"])"
   ]
  },
  {
   "cell_type": "code",
   "execution_count": 84,
   "metadata": {},
   "outputs": [],
   "source": [
    "mass_error_si = mass_error/1000 #kg\n",
    "length_error_si = length_error/100 #m\n",
    "\n",
    "masses_si = {\n",
    "    \"mass_1\": masses[\"mass_1\"]/1000, #kg\n",
    "    \"mass_2\": masses[\"mass_2\"]/1000, #kg\n",
    "    \"masses_with_screws\": masses[\"masses_with_screws\"]/1000, #kg\n",
    "    \"screw_mass\": masses[\"screw_mass\"]/1000 #kg\n",
    "}\n",
    "\n",
    "R_wt_si = R_wt/100\n",
    "\n"
   ]
  },
  {
   "cell_type": "markdown",
   "metadata": {},
   "source": [
    "### Errors\n",
    "\n",
    "- The error in the mass measurements is $0.01$ grams according to the scale\n",
    "- The error in the length measurements is $0.02$ cm\n",
    "\n",
    "\n",
    "To find the error in the time period can be found by taking the SEM\n",
    "\n",
    "$$SEM = \\frac{\\sigma}{\\sqrt{n}}$$\n",
    "\n",
    "- Where $\\sigma$ is the standard deviation\n",
    "\n",
    "$$\\sigma^2 = \\frac{1}{n-1}\\sum_{i=1}^{n}(x_i-\\bar{x})^2$$\n"
   ]
  },
  {
   "cell_type": "code",
   "execution_count": 85,
   "metadata": {},
   "outputs": [],
   "source": [
    "def standard_deviation(values:np.array):\n",
    "    return np.sqrt(np.sum((values - np.mean(values))**2) / (values.size -1))\n",
    "\n",
    "def standard_error_in_mean(st_dev,count):\n",
    "    return st_dev / np.sqrt(count)"
   ]
  },
  {
   "cell_type": "code",
   "execution_count": 86,
   "metadata": {},
   "outputs": [
    {
     "data": {
      "text/plain": [
       "np.float64(1.2209999999999999)"
      ]
     },
     "execution_count": 86,
     "metadata": {},
     "output_type": "execute_result"
    }
   ],
   "source": [
    "np.mean(disc_period_with_masses)"
   ]
  },
  {
   "cell_type": "code",
   "execution_count": 87,
   "metadata": {},
   "outputs": [
    {
     "name": "stdout",
     "output_type": "stream",
     "text": [
      "The disc period error is 0.012 seconds\n"
     ]
    }
   ],
   "source": [
    "disc_period_error = round(standard_error_in_mean(standard_deviation(disc_period_with_masses),disc_period_with_masses.size),3) #seconds\n",
    "print(f\"The disc period error is {disc_period_error} seconds\")\n"
   ]
  },
  {
   "cell_type": "markdown",
   "metadata": {},
   "source": [
    "#### Calculate the Moment of Inertia of the Aluminium Disc\n",
    "\n",
    "$$I_{Al} = \\frac{M_{wt}R_{wt}g\\Delta t^2}{4\\pi^2} - M_{wt}R_{wt}^2$$\n",
    "\n",
    "Where:\n",
    "\n",
    "- $I_{Al}$ is the moment of inertia of the Aluminum Disc\n",
    "- $M_{wt}$ is the mass of the weights\n",
    "- $R_{wt}$ is the distance from the weights to the axis of rotation\n",
    "- $\\Delta t$ is the time period of oscillation"
   ]
  },
  {
   "cell_type": "code",
   "execution_count": 88,
   "metadata": {},
   "outputs": [],
   "source": [
    "def calculate_aluminum_disc_moment_inertia(weight_mass:float,distance_to_masses:float,time_period:float,g:float = 9.81)->float:\n",
    "    return ((weight_mass*distance_to_masses*g*(time_period**2))/(4*(np.pi**2))) - (weight_mass*(distance_to_masses**2))\n",
    "\n",
    "aluminum_disc_moment_inertia_value = calculate_aluminum_disc_moment_inertia(np.mean(masses_si['masses_with_screws']),np.mean(R_wt_si),np.mean(disc_period_with_masses))"
   ]
  },
  {
   "cell_type": "markdown",
   "metadata": {},
   "source": [
    "### Calculating Errors in the Moment of Inertia\n",
    "\n",
    "$$\\frac{\\partial f}{\\partial M_{wt}} = \\frac{R_{wt}g\\Delta t^2}{4\\pi^2} - R_{wt}^2$$\n",
    "\n",
    "$$\\frac{\\partial f}{\\partial R_{wt}} = \\frac{M_{wt}g\\Delta t^2}{4\\pi^2} - 2M_{wt}R_{wt}$$\n",
    "\n",
    "$$\\frac{\\partial f}{\\partial \\Delta t} = \\frac{2M_{wt}R_{wt}g\\Delta t}{4\\pi^2}$$\n",
    "\n",
    "\n",
    "Error in moment of inertia is\n",
    "\n",
    "$$I_{Al}^2 = \\sum_{i=1}^{n} (\\vert \\frac{\\partial f}{\\partial x_i}\\vert y_i)^2$$\n",
    "\n",
    "- Where $x_i$ is the parameter \n",
    "- $y_i$ is it's associated uncertainty\n",
    "- $I_{Al}$ is the error in the Aluminum disc's moment of inertia"
   ]
  },
  {
   "cell_type": "code",
   "execution_count": 89,
   "metadata": {},
   "outputs": [],
   "source": [
    "def partial_m(distance_to_center, time_period,g=9.81):\n",
    "    return np.abs(((distance_to_center * g * (time_period**2))/ (4 * (np.pi**2))) - (distance_to_center**2))\n",
    "\n",
    "def partial_r(weight_mass,distance_to_center,time_period,g=9.81):\n",
    "    return np.abs((weight_mass * g * (time_period**2)) / (4 * (np.pi**2))) - (2*weight_mass * distance_to_center)\n",
    "\n",
    "def partial_t(weight_mass,distance_to_center,time_period,g=9.81):\n",
    "    return  np.abs((2*weight_mass*distance_to_center*time_period*g)/(4 * (np.pi **2)))\n",
    "\n",
    "\n",
    "moment_of_inertia_error = np.sqrt(np.sum(np.array([(partial_m(length_error_si,disc_period_error))**2,(partial_r(mass_error_si,length_error_si,disc_period_error))**2,(partial_t(mass_error_si,length_error_si,disc_period_error))**2])))\n",
    "\n",
    "\n",
    "# moment_of_inertia_error = np.sqrt(\n",
    "#     np.sum(\n",
    "#         np.array(\n",
    "#             [\n",
    "#                 partial_m()\n",
    "#             ]\n",
    "#         )\n",
    "#     )\n",
    "# )"
   ]
  },
  {
   "cell_type": "code",
   "execution_count": 90,
   "metadata": {},
   "outputs": [
    {
     "name": "stdout",
     "output_type": "stream",
     "text": [
      "1.2209999999999999\n",
      "197.0566666666667\n",
      "16.2\n"
     ]
    }
   ],
   "source": [
    "cgs_aluminum_disc_moment_of_inertia = calculate_aluminum_disc_moment_inertia(np.mean(masses['masses_with_screws']),np.mean(R_wt),np.mean(disc_period_with_masses),981)\n",
    "print(mean_disc_period_with_masses)\n",
    "print(mean_mass_with_screws)\n",
    "print(mean_R_wt)"
   ]
  },
  {
   "cell_type": "code",
   "execution_count": 91,
   "metadata": {},
   "outputs": [],
   "source": [
    "cgs_moment_of_inertia_aluminum_disc_masses_error = np.sqrt(\n",
    "    np.sum(\n",
    "        np.array(\n",
    "            [\n",
    "                (partial_m(mean_R_wt,mean_disc_period_with_masses,981)* mass_error)**2,\n",
    "                (partial_r(mean_mass_with_screws,mean_R_wt,mean_disc_period_with_masses,981)*length_error)**2,\n",
    "                (partial_t(mean_mass_with_screws,mean_R_wt,mean_disc_period_with_masses,981)*disc_period_error)**2\n",
    "            ]\n",
    "        )\n",
    "    )\n",
    ")"
   ]
  },
  {
   "cell_type": "code",
   "execution_count": 92,
   "metadata": {},
   "outputs": [
    {
     "data": {
      "text/plain": [
       "0.0005047279969492183"
      ]
     },
     "execution_count": 92,
     "metadata": {},
     "output_type": "execute_result"
    }
   ],
   "source": [
    "0.0005047279969492183"
   ]
  },
  {
   "cell_type": "code",
   "execution_count": 93,
   "metadata": {},
   "outputs": [
    {
     "name": "stdout",
     "output_type": "stream",
     "text": [
      "The moment of inertia (cgs) for the aluminum disc is 66546.86392025521 ± 2325 gcm^2\n"
     ]
    }
   ],
   "source": [
    "print(f\"The moment of inertia (cgs) for the aluminum disc is {cgs_aluminum_disc_moment_of_inertia} ± {cgs_moment_of_inertia_aluminum_disc_masses_error:.4g} gcm^2\")"
   ]
  },
  {
   "cell_type": "code",
   "execution_count": 94,
   "metadata": {},
   "outputs": [
    {
     "name": "stdout",
     "output_type": "stream",
     "text": [
      "The moment of inertia for the aluminum disc is 0.006654686392025522 ± 3.304481645725007e-08 kg m^2\n"
     ]
    }
   ],
   "source": [
    "print(f\"The moment of inertia for the aluminum disc is {aluminum_disc_moment_inertia_value} ± {moment_of_inertia_error} kg m^2\")"
   ]
  },
  {
   "cell_type": "markdown",
   "metadata": {},
   "source": [
    "## Section 1.2 "
   ]
  },
  {
   "cell_type": "markdown",
   "metadata": {},
   "source": [
    "### Importing Data"
   ]
  },
  {
   "cell_type": "code",
   "execution_count": 95,
   "metadata": {},
   "outputs": [],
   "source": [
    "mass_of_aluminum_disc = 772.92 #grams\n",
    "aluminum_disc_mass_error = 0.03 #grams\n",
    "\n",
    "radius_of_aluminum_disc = np.array([17,16.9,17.1,17.1]) #cm\n",
    "length_error = 0.02 #cm\n",
    "\n",
    "distances_from_center = {\n",
    "    \"a_1\": np.array([16.3,16.2,16.1,16.1]), #cm\n",
    "    \"a_2\": np.array([12.1,12.2,12.2,12.1]), #cm\n",
    "    \"a_3\": np.array([8.2,8.1,8.1,8.1]), #cm\n",
    "    \"a_4\": np.array([4.1,4.1,4,4.1]), #cm\n",
    "    \"a_5\": np.array([2.2,2.1,2,2.1]), #cm\n",
    "    \"a_6\": np.array([6.1,6.1,6,6.2]), #cm\n",
    "    \"a_7\": np.array([10.1,10,10.1,10]), #cm\n",
    "    \"a_8\": np.array([14.1,14.1,14,14.1]) #cm\n",
    "}\n",
    "\n",
    "pendulum_times_at_different_distances = {\n",
    "    \"dt_1\": np.array([0.97,0.93,1.03,0.88,0.97,0.88,0.85,1.00,0.78,0.88]), #seconds\n",
    "    \"dt_2\": np.array([0.84,0.85,0.78,0.88,0.90,0.8 ,0.78,0.88,0.81,0.81]), #seconds\n",
    "    \"dt_3\": np.array([0.84,0.87,0.87,0.97,0.90,0.88,0.88,0.87,1.03,0.94]), #seconds\n",
    "    \"dt_4\": np.array([0.96,1.09,1.10,1.09,1.10,1.09,1.13,1.12,1.10,1.19]), #seconds\n",
    "    \"dt_5\": np.array([1.66,1.44,1.29,1.43,1.34,1.41,1.44,1.31,1.46,1.56]), #seconds\n",
    "    \"dt_6\": np.array([0.88,0.97,0.84,0.94,0.85,0.94,0.94,0.81,0.84,0.88]), #seconds\n",
    "    \"dt_7\": np.array([0.87,0.88,0.94,0.93,0.88,0.84,0.78,0.85,0.81,0.85]), #seconds\n",
    "    \"dt_8\": np.array([0.78,0.84,0.81,0.79,0.81,0.88,0.75,0.90,0.88,0.78])  #seconds\n",
    "    \n",
    "}"
   ]
  },
  {
   "cell_type": "markdown",
   "metadata": {},
   "source": [
    "#### Convert Data to SI"
   ]
  },
  {
   "cell_type": "code",
   "execution_count": 96,
   "metadata": {},
   "outputs": [],
   "source": [
    "mass_of_aluminum_disc_si = mass_of_aluminum_disc/1000 #kg\n",
    "aluminum_disc_mass_error_si = aluminum_disc_mass_error/1000 #kg\n",
    "\n",
    "radius_of_aluminum_disc_si = radius_of_aluminum_disc/100 #m\n",
    "\n",
    "distances_from_center_si = {\n",
    "    \"a_1\": distances_from_center[\"a_1\"]/100, #m\n",
    "    \"a_2\": distances_from_center[\"a_2\"]/100, #m\n",
    "    \"a_3\": distances_from_center[\"a_3\"]/100, #m\n",
    "    \"a_4\": distances_from_center[\"a_4\"]/100, #m\n",
    "    \"a_5\": distances_from_center[\"a_5\"]/100, #m\n",
    "    \"a_6\": distances_from_center[\"a_6\"]/100, #m\n",
    "    \"a_7\": distances_from_center[\"a_7\"]/100, #m\n",
    "    \"a_8\": distances_from_center[\"a_8\"]/100  #m\n",
    "}"
   ]
  },
  {
   "cell_type": "markdown",
   "metadata": {},
   "source": [
    "### Errors\n",
    "\n"
   ]
  },
  {
   "cell_type": "markdown",
   "metadata": {},
   "source": [
    "### Moment of Inertia of Aluminum Disc at axes not passing through the center of gravity\n",
    "\n",
    "Using the Parallel Axis Theorem the moment of inertia about any axis parallel to the center of gravity can be calculated by\n",
    "\n",
    "$$I_{Al}^{\\prime} = I_{Al} + mr^2$$\n",
    "\n",
    "- Where $I_{Al}$ is the moment of inertia about an axis passing through the center of gravity\n",
    "- $I_{Al}^{\\prime}$ is the moment of inertia about a parallel axis\n",
    "- $m$ is the mass of the aluminum disc\n",
    "- $r$ is the perpendicular distance from the center of gravity to the axis about which the moment of inertia will be calculated\n",
    "\n",
    "\n",
    "\n",
    "These values will then be compared to a calculated value, modelling the aluminum disc as a cylinder.\n",
    "\n",
    "In this case, the moment of inertia can be calculated as follows:\n",
    "\n",
    "$$I_{Al} = \\frac{1}{2}M_{Al}R_{Al}^2$$\n",
    "\n",
    "- Where $I_{Al}$ is the moment of inertia of the aluminum disc\n",
    "- $M_{Al}$ is the mass of the aluminum disc\n",
    "- $R_{Al}$ is the radius of the aluminum disc\n",
    "\n",
    "\n",
    "\n",
    "\n",
    "The moment of inertia through the center of gravity can be calculated using:\n",
    "\n",
    "assuming that the density of the aluminum disc is constant \n",
    "- h is the thickness of the disc\n",
    "- R is the radius\n",
    "\n",
    "$$I_{Al} = \\int_{0}^{h}\\int_{0}^{R}\\int_{0}^{2\\pi}\\rho {r}^2 dV $$\n",
    "\n",
    "In cylindrical coordinates, centered about the center of the disc\n",
    "\n",
    "$$I_{Al} = \\rho \\int_{0}^{h}\\int_{0}^{R}\\int_{0}^{2\\pi}  {r}^3drd\\theta dz $$\n",
    "\n",
    "\n",
    "Then $$I_{Al} = \\frac{\\pi\\rho R^4 h}{2}$$\n",
    "\n",
    "- This can be rewritten as $$I_{Al} = \\frac{1}{2}MR^2$$ which is the standard equation for the moment of inertia for a solid cylinder about an axis passing through its center\n",
    "\n",
    "\n",
    "#### As Written in the Assignment Document\n",
    "$a$ is the perpendicular distance from the center of gravity to the axis of rotation\n",
    "\n",
    "This means that when $a = 0$ the moment of inertia about the center of gravity can be calculated\n",
    " - The moment of inertia for the Aluminum disc about the center of gravity can be calculated using:\n",
    "\n",
    "\n",
    " $$I_{Al} = mga \\frac{{\\Delta t}^2}{4 \\pi^2} - ma^2$$\n",
    "\n"
   ]
  },
  {
   "cell_type": "markdown",
   "metadata": {},
   "source": [
    "#### Defining Functions"
   ]
  },
  {
   "cell_type": "markdown",
   "metadata": {},
   "source": [
    "##### Function defining the Parallel Axis Theorem"
   ]
  },
  {
   "cell_type": "code",
   "execution_count": 97,
   "metadata": {},
   "outputs": [],
   "source": [
    "def parallel_axis(moment_of_inertia, mass, distance_between_axes):\n",
    "    return moment_of_inertia + (mass*(distance_between_axes**2))"
   ]
  },
  {
   "cell_type": "markdown",
   "metadata": {},
   "source": [
    "##### Function to calculate the Moment of Inertia \n",
    "\n",
    "$$I = mga \\frac{{\\Delta t}^2}{4 \\pi^2} - ma^2$$\n",
    "\n",
    "- Where $a$ is the perpendicular distance to the center of gravity\n",
    "- $m$ is the mass\n",
    "- $g$ is $9.81$\n",
    "- $\\Delta t$ is the time period for the physical pendulum"
   ]
  },
  {
   "cell_type": "code",
   "execution_count": 98,
   "metadata": {},
   "outputs": [],
   "source": [
    "def calculate_moment_of_inertia(mass,perpendicular_distance,time_period,gravity=9.81):\n",
    "    return (mass*gravity*perpendicular_distance)*(time_period/(2*np.pi))**2 - (mass*perpendicular_distance**2)"
   ]
  },
  {
   "cell_type": "markdown",
   "metadata": {},
   "source": [
    "##### Function for calculating the moment of inertia of a cylinder"
   ]
  },
  {
   "cell_type": "code",
   "execution_count": 99,
   "metadata": {},
   "outputs": [],
   "source": [
    "def cylinder_moment_of_inertia(mass,radius):\n",
    "    return 0.5 * mass * (radius**2)"
   ]
  },
  {
   "cell_type": "markdown",
   "metadata": {},
   "source": [
    "### Calculating the Moment of Inertia of a Physical Pendulum about an axis passing through the center of gravity"
   ]
  },
  {
   "cell_type": "code",
   "execution_count": 100,
   "metadata": {},
   "outputs": [],
   "source": [
    "aluminum_disc_moment_of_inertia_different_axes = {\n",
    "    \"a_1\": calculate_moment_of_inertia(mass_of_aluminum_disc,np.mean(distances_from_center[\"a_1\"]),np.mean(pendulum_times_at_different_distances[\"dt_1\"]),981), #kg m^2\n",
    "    \"a_2\": calculate_moment_of_inertia(mass_of_aluminum_disc,np.mean(distances_from_center[\"a_2\"]),np.mean(pendulum_times_at_different_distances[\"dt_2\"]),981), #kg m^2\n",
    "    \"a_3\": calculate_moment_of_inertia(mass_of_aluminum_disc,np.mean(distances_from_center[\"a_3\"]),np.mean(pendulum_times_at_different_distances[\"dt_3\"]),981), #kg m^2\n",
    "    \"a_4\": calculate_moment_of_inertia(mass_of_aluminum_disc,np.mean(distances_from_center[\"a_4\"]),np.mean(pendulum_times_at_different_distances[\"dt_4\"]),981), #kg m^2\n",
    "    \"a_5\": calculate_moment_of_inertia(mass_of_aluminum_disc,np.mean(distances_from_center[\"a_5\"]),np.mean(pendulum_times_at_different_distances[\"dt_5\"]),981), #kg m^2\n",
    "    \"a_6\": calculate_moment_of_inertia(mass_of_aluminum_disc,np.mean(distances_from_center[\"a_6\"]),np.mean(pendulum_times_at_different_distances[\"dt_6\"]),981), #kg m^2\n",
    "    \"a_7\": calculate_moment_of_inertia(mass_of_aluminum_disc,np.mean(distances_from_center[\"a_7\"]),np.mean(pendulum_times_at_different_distances[\"dt_7\"]),981), #kg m^2\n",
    "    \"a_8\": calculate_moment_of_inertia(mass_of_aluminum_disc,np.mean(distances_from_center[\"a_8\"]),np.mean(pendulum_times_at_different_distances[\"dt_8\"]),981)  #kg m^2\n",
    "}\n"
   ]
  },
  {
   "cell_type": "code",
   "execution_count": 101,
   "metadata": {},
   "outputs": [
    {
     "data": {
      "text/plain": [
       "np.float64(0.917)"
      ]
     },
     "execution_count": 101,
     "metadata": {},
     "output_type": "execute_result"
    }
   ],
   "source": [
    "np.mean(pendulum_times_at_different_distances[\"dt_1\"])"
   ]
  },
  {
   "cell_type": "markdown",
   "metadata": {},
   "source": [
    "## Fix Data"
   ]
  },
  {
   "cell_type": "code",
   "execution_count": 102,
   "metadata": {},
   "outputs": [],
   "source": [
    "x_points_distances = []\n",
    "y_points_moment_of_inertia = []\n",
    "\n",
    "for distance in aluminum_disc_moment_of_inertia_different_axes:\n",
    "\n",
    "    x_points_distances.append(np.mean(distances_from_center[distance]))\n",
    "    y_points_moment_of_inertia.append(np.mean(aluminum_disc_moment_of_inertia_different_axes[distance]))"
   ]
  },
  {
   "cell_type": "markdown",
   "metadata": {},
   "source": [
    "### Data plot\n",
    "\n",
    "Seems to generally match a polynomial of degree 2"
   ]
  },
  {
   "cell_type": "code",
   "execution_count": 103,
   "metadata": {},
   "outputs": [
    {
     "data": {
      "image/png": "[encoded data removed]",
      "text/plain": [
       "<Figure size 640x480 with 1 Axes>"
      ]
     },
     "metadata": {},
     "output_type": "display_data"
    }
   ],
   "source": [
    "plt.figure()\n",
    "plt.scatter(x_points_distances,y_points_moment_of_inertia,color='black',s=10,label=\"Experimental Results\")\n",
    "plt.legend()\n",
    "plt.ylim(0,)\n",
    "plt.xlim(0,)\n",
    "plt.show()"
   ]
  },
  {
   "cell_type": "code",
   "execution_count": 104,
   "metadata": {},
   "outputs": [
    {
     "data": {
      "text/plain": [
       "[np.float64(16.175),\n",
       " np.float64(12.15),\n",
       " np.float64(8.125),\n",
       " np.float64(4.074999999999999),\n",
       " np.float64(2.1),\n",
       " np.float64(6.1),\n",
       " np.float64(10.05),\n",
       " np.float64(14.075000000000001)]"
      ]
     },
     "execution_count": 104,
     "metadata": {},
     "output_type": "execute_result"
    }
   ],
   "source": [
    "x_points_distances"
   ]
  },
  {
   "cell_type": "markdown",
   "metadata": {},
   "source": [
    "## Fit Data to Polynomial of Degree 2"
   ]
  },
  {
   "cell_type": "code",
   "execution_count": 105,
   "metadata": {},
   "outputs": [],
   "source": [
    "coeff = np.polynomial.polynomial.polyfit(x_points_distances,y_points_moment_of_inertia,2)\n",
    "fit = np.polynomial.Polynomial(coeff)\n",
    "\n",
    "fit_x = np.linspace(0,max(x_points_distances),10000)\n",
    "fit_y = np.linspace(-max(y_points_moment_of_inertia),max(y_points_moment_of_inertia),10000)"
   ]
  },
  {
   "cell_type": "code",
   "execution_count": 106,
   "metadata": {},
   "outputs": [
    {
     "name": "stdout",
     "output_type": "stream",
     "text": [
      "Mean Squared Error = 1.13e+08\n"
     ]
    },
    {
     "data": {
      "image/png": "[encoded data removed]",
      "text/plain": [
       "<Figure size 640x480 with 1 Axes>"
      ]
     },
     "metadata": {},
     "output_type": "display_data"
    }
   ],
   "source": [
    "print(f\"Mean Squared Error = {np.mean([np.array(np.array(y_points_moment_of_inertia) - fit(np.array(x_points_distances)))**2]):.2e}\")\n",
    "plt.figure()\n",
    "plt.scatter(x_points_distances,y_points_moment_of_inertia,color='red',s=10,label=\"Data Points\")\n",
    "plt.xlabel(\"Perpendicular Distance to CoG (cm)\")\n",
    "plt.ylabel(\"Moment of Inertia (g cm$^2$)\")\n",
    "plt.plot(fit_x,fit(fit_x),label=\"Fit\",ls='dashed')\n",
    "#plt.figtext(0,0,f\"Mean Squared Error = {np.mean([np.array(np.array(y_points_moment_of_inertia) - fit(np.array(x_points_distances)))**2]):.2e}\")\n",
    "plt.xlim(0,)\n",
    "plt.ylim(0,)\n",
    "plt.minorticks_on()\n",
    "plt.legend()\n",
    "plt.show()"
   ]
  },
  {
   "cell_type": "markdown",
   "metadata": {},
   "source": [
    "### Using The Fitted Model the Value for the Moment of Inertia at the Center of Gravity can be Predicted"
   ]
  },
  {
   "cell_type": "code",
   "execution_count": 107,
   "metadata": {},
   "outputs": [
    {
     "name": "stdout",
     "output_type": "stream",
     "text": [
      "Moment of Inertia at CoG = 9.14e+04\n"
     ]
    }
   ],
   "source": [
    "print(f\"Moment of Inertia at CoG = {fit(0):.2e}\")"
   ]
  },
  {
   "cell_type": "markdown",
   "metadata": {},
   "source": [
    "## Doing a Plot with the two outliers removed\n",
    "\n",
    "\n",
    "Need to remove the 0.06 and the 0.16 data points"
   ]
  },
  {
   "cell_type": "code",
   "execution_count": 108,
   "metadata": {},
   "outputs": [
    {
     "name": "stdout",
     "output_type": "stream",
     "text": [
      "x_points_distances = [np.float64(16.175), np.float64(12.15), np.float64(8.125), np.float64(4.074999999999999), np.float64(2.1), np.float64(6.1), np.float64(10.05), np.float64(14.075000000000001)]\n",
      "y_points_moment_of_inertia = [np.float64(59012.6986154824), np.float64(47823.197094166666), np.float64(76785.05865109767), np.float64(81350.81835105941), np.float64(79530.9228704828), np.float64(63832.43730967191), np.float64(65690.96462662568), np.float64(29537.004354893084)]\n"
     ]
    }
   ],
   "source": [
    "print(f\"{x_points_distances = }\")\n",
    "print(f\"{y_points_moment_of_inertia = }\")"
   ]
  },
  {
   "cell_type": "code",
   "execution_count": 109,
   "metadata": {},
   "outputs": [
    {
     "data": {
      "text/plain": [
       "[(np.float64(12.15), np.float64(47823.197094166666)),\n",
       " (np.float64(8.125), np.float64(76785.05865109767)),\n",
       " (np.float64(4.074999999999999), np.float64(81350.81835105941)),\n",
       " (np.float64(2.1), np.float64(79530.9228704828)),\n",
       " (np.float64(10.05), np.float64(65690.96462662568)),\n",
       " (np.float64(14.075000000000001), np.float64(29537.004354893084))]"
      ]
     },
     "execution_count": 109,
     "metadata": {},
     "output_type": "execute_result"
    }
   ],
   "source": [
    "data_points = list(zip(x_points_distances,y_points_moment_of_inertia))\n",
    "data_points = data_points[1::]\n",
    "data_points.pop(4)\n",
    "data_points\n"
   ]
  },
  {
   "cell_type": "markdown",
   "metadata": {},
   "source": [
    "### Plot the Graph"
   ]
  },
  {
   "cell_type": "code",
   "execution_count": 110,
   "metadata": {},
   "outputs": [
    {
     "data": {
      "text/plain": [
       "array([47823.19709417, 76785.0586511 , 81350.81835106, 79530.92287048,\n",
       "       65690.96462663, 29537.00435489])"
      ]
     },
     "execution_count": 110,
     "metadata": {},
     "output_type": "execute_result"
    }
   ],
   "source": [
    "data_transpose = np.array(data_points).transpose()\n",
    "data_transpose[1]"
   ]
  },
  {
   "cell_type": "code",
   "execution_count": 111,
   "metadata": {},
   "outputs": [
    {
     "data": {
      "text/plain": [
       "array([12.15 ,  8.125,  4.075,  2.1  , 10.05 , 14.075])"
      ]
     },
     "execution_count": 111,
     "metadata": {},
     "output_type": "execute_result"
    }
   ],
   "source": [
    "data_transpose[0]"
   ]
  },
  {
   "cell_type": "code",
   "execution_count": 112,
   "metadata": {},
   "outputs": [
    {
     "data": {
      "text/plain": [
       "np.float64(31722.282579027105)"
      ]
     },
     "execution_count": 112,
     "metadata": {},
     "output_type": "execute_result"
    }
   ],
   "source": [
    "data = pd.DataFrame(data_transpose)\n",
    "data\n",
    "np.mean(np.array(data.sem()))"
   ]
  },
  {
   "cell_type": "code",
   "execution_count": 113,
   "metadata": {},
   "outputs": [],
   "source": [
    "fit_coeff = np.polynomial.polynomial.polyfit(data_transpose[0],data_transpose[1],2)\n",
    "test_fit = np.polynomial.polynomial.Polynomial(fit_coeff)"
   ]
  },
  {
   "cell_type": "code",
   "execution_count": 114,
   "metadata": {},
   "outputs": [
    {
     "data": {
      "image/png": "[encoded data removed]",
      "text/plain": [
       "<Figure size 640x480 with 1 Axes>"
      ]
     },
     "metadata": {},
     "output_type": "display_data"
    }
   ],
   "source": [
    "fig, ax = plt.subplots()\n",
    "ax.scatter(data_transpose[0],data_transpose[1],c=\"black\",label=\"Experimental Result\",marker=\"x\",s=10,)\n",
    "ax.plot(np.linspace(0,data_transpose[0].max(),10000),test_fit(np.linspace(0,data_transpose[0].max(),10000)),ls=\"dashed\",label=\"Fit\")\n",
    "ax.errorbar(data_transpose[0],data_transpose[1],np.array(data.sem()),ls='none',capsize=4,zorder=-999,color='black',alpha=0.5,label=\"Standard Error in Mean\")\n",
    "ax.legend()\n",
    "ax.set_xlabel(\"Perpendicular Distance to CoG(cm)\")\n",
    "ax.set_ylabel(\"Moment of Inertia (g cm$^2$)\")\n",
    "ax.minorticks_on()\n",
    "ax.set_ylim(0,)\n",
    "ax.set_xlim(0,14.2)\n",
    "#ax.set_aspect()\n",
    "fig.tight_layout()\n",
    "plt.show()"
   ]
  },
  {
   "cell_type": "code",
   "execution_count": 115,
   "metadata": {},
   "outputs": [
    {
     "name": "stdout",
     "output_type": "stream",
     "text": [
      "test_fit(0) = np.float64(69529.68906282618)\n"
     ]
    }
   ],
   "source": [
    "print(f\"{test_fit(0) = }\")"
   ]
  },
  {
   "cell_type": "markdown",
   "metadata": {},
   "source": [
    "##### Define Functions Parallel Axis Theorem Uncertainty\n",
    "\n",
    "$$I = mgd_{\\perp} \\frac{{\\Delta t}^2}{4 \\pi^2} - md_{\\perp}^2$$\n",
    "\n",
    "$$\\frac{\\partial I}{\\partial m}= \\frac{gd_{\\perp}\\Delta t^2}{4\\pi^2} - d_{\\perp}^2 $$\n",
    "\n",
    "$$\\frac{\\partial I}{\\partial d_{\\perp}}= \\frac{mg\\Delta t^2}{4\\pi^2} - 2md_{\\perp}$$\n",
    "\n",
    "$$\\frac{\\partial I}{\\partial \\Delta t} = \\frac{2mgd_{\\perp}\\Delta t}{4\\pi^2}$$\n",
    "\n",
    "\n",
    "\n",
    "$$\\Delta I^2 = \\sum_{i=0}^n (\\vert \\frac{\\partial I}{\\partial x_i}\\vert y_i)^2$$\n",
    "\n",
    "Where:\n",
    "- $\\frac{\\partial I}{\\partial x_i}$ is the partial derivative of $I$ with respect to $x_i$\n",
    "- $y_i$ is the associated uncertainty"
   ]
  },
  {
   "cell_type": "code",
   "execution_count": 116,
   "metadata": {},
   "outputs": [],
   "source": [
    "def partial_m_pat(d_perp,delta_t,g=9.81):\n",
    "    return ((g * d_perp * (delta_t**2) )/ (4 * np.pi**2)) - (d_perp**2)\n",
    "\n",
    "def partial_d_perp_pat(mass,d_perp,delta_t,g = 9.81):\n",
    "    return ((mass * g * (delta_t**2))/(4*np.pi**2)) - (2*mass*d_perp)\n",
    "\n",
    "def partial_delta_t_pat(mass,d_perp,delta_t,g = 9.81):\n",
    "    return (2 * mass * g * d_perp * delta_t)/(4*np.pi**2)"
   ]
  },
  {
   "cell_type": "code",
   "execution_count": 117,
   "metadata": {},
   "outputs": [],
   "source": [
    "df = pd.DataFrame(pendulum_times_at_different_distances)\n",
    "pat_delta_t_error = np.mean(df.sem())"
   ]
  },
  {
   "cell_type": "code",
   "execution_count": 118,
   "metadata": {},
   "outputs": [],
   "source": [
    "perpendicular_distance_error = 0.002 #cm\n",
    "mean_perp_dist = np.mean(data_transpose[0])\n",
    "mean_delta_t_pat = np.mean(pd.DataFrame(pendulum_times_at_different_distances).mean())\n"
   ]
  },
  {
   "cell_type": "code",
   "execution_count": 119,
   "metadata": {},
   "outputs": [],
   "source": [
    "parallel_axis_theorem_moment_of_inertia_uncertainty = np.sqrt(\n",
    "    np.sum(\n",
    "        np.array(\n",
    "            [\n",
    "                (partial_m_pat(d_perp=mean_perp_dist,delta_t=mean_delta_t_pat,g=981)*mass_error)**2,\n",
    "                (partial_d_perp_pat(mass_of_aluminum_disc,mean_perp_dist,mean_delta_t_pat,g=981)*perpendicular_distance_error)**2,\n",
    "                (partial_delta_t_pat(mass=mass_error,d_perp=mean_perp_dist,delta_t=mean_delta_t_pat,g=981) * pat_delta_t_error)**2\n",
    "            ]\n",
    "        )\n",
    "    )\n",
    ")"
   ]
  },
  {
   "cell_type": "code",
   "execution_count": 120,
   "metadata": {},
   "outputs": [
    {
     "data": {
      "text/plain": [
       "'The moment of inertia using the parallel axis theorem is 6.953e+04 plus/minus 10.16'"
      ]
     },
     "execution_count": 120,
     "metadata": {},
     "output_type": "execute_result"
    }
   ],
   "source": [
    "f\"The moment of inertia using the parallel axis theorem is {test_fit(0):.4g} plus/minus {parallel_axis_theorem_moment_of_inertia_uncertainty:.4g}\""
   ]
  },
  {
   "cell_type": "markdown",
   "metadata": {},
   "source": [
    "# Maybe do SEM for error?"
   ]
  },
  {
   "cell_type": "markdown",
   "metadata": {},
   "source": [
    "### 2.1 Gyroscope Moment of Inertia\n",
    "\n",
    "The moment of inertia for the gyroscope can be calculated in the same way as the one for the aluminum disc: by modelling it as a physical pendulum\n",
    "\n",
    "\n",
    "$$I_{Gyro} = \\frac{M_{wt}R_{wt}g\\Delta t^2}{4\\pi^2} - M_{wt}R_{wt}^2$$\n",
    "\n",
    "\n",
    "Where:\n",
    "\n",
    "- $I_{Gyro}$ is the moment of inertia of the Gyroscope\n",
    "- $M_{wt}$ is the mass of the weights\n",
    "- $R_{wt}$ is the distance from the weights to the axis of rotation\n",
    "- $\\Delta t$ is the time period of oscillation\n",
    "\n",
    "\n"
   ]
  },
  {
   "cell_type": "code",
   "execution_count": 121,
   "metadata": {},
   "outputs": [],
   "source": [
    "gyroscope_distance_to_axis = np.mean([24.7,25,24.5,24.6]) #cm\n",
    "\n",
    "gyroscope_delta_t = np.mean([\n",
    "    1.787+2.001,\n",
    "    2.058+1.463,\n",
    "    2.066+1.444,\n",
    "    2.034+1.483,\n",
    "    2.050+1.460,\n",
    "    2.017+1.501,\n",
    "    2.038+1.475,\n",
    "    2.021+1.499,\n",
    "    2.020+1.501,\n",
    "    2.006+1.522\n",
    "]) #s\n",
    "gyroscope_delta_t_error = 0.001 #s\n",
    "\n",
    "gyroscope_center_of_gravity = np.mean([\n",
    "    5.53-1.53,\n",
    "    5.52 - 1.52\n",
    "]) #cm\n",
    "\n",
    "gyroscope_center_of_gravity_error = 0.002 #cm\n",
    "\n",
    "gyroscope_mass = 3150 #g\n",
    "gyroscope_mass_error = 100 #g"
   ]
  },
  {
   "cell_type": "code",
   "execution_count": 122,
   "metadata": {},
   "outputs": [
    {
     "data": {
      "text/plain": [
       "np.float64(4.0)"
      ]
     },
     "execution_count": 122,
     "metadata": {},
     "output_type": "execute_result"
    }
   ],
   "source": [
    "gyroscope_center_of_gravity"
   ]
  },
  {
   "cell_type": "code",
   "execution_count": 123,
   "metadata": {},
   "outputs": [
    {
     "name": "stdout",
     "output_type": "stream",
     "text": [
      "The Gyroscope's Moment of Inertia is 1399386.5769662457 plus/minus 1346\n"
     ]
    }
   ],
   "source": [
    "Gyroscope_moment_of_inertia = calculate_aluminum_disc_moment_inertia(mean_mass_with_screws,gyroscope_distance_to_axis,gyroscope_delta_t,981)\n",
    "\n",
    "Gyroscope_moment_of_inertia_error = np.sqrt(\n",
    "    np.sum(\n",
    "        np.array(\n",
    "            [\n",
    "                (partial_m(gyroscope_distance_to_axis,gyroscope_delta_t,981) * mass_error)**2,\n",
    "                (partial_r(mean_mass_with_screws,gyroscope_distance_to_axis,gyroscope_delta_t,981) * length_error)**2,\n",
    "                (partial_t(mean_mass_with_screws,gyroscope_distance_to_axis,gyroscope_delta_t,981) * gyroscope_delta_t_error)**2\n",
    "            ]\n",
    "        )\n",
    "    )\n",
    ")\n",
    "print(f\"The Gyroscope's Moment of Inertia is {Gyroscope_moment_of_inertia} plus/minus {Gyroscope_moment_of_inertia_error:.4g}\")"
   ]
  },
  {
   "cell_type": "markdown",
   "metadata": {},
   "source": [
    "### 2.3 Precession\n",
    "\n",
    "\n",
    "$$\\omega_P = \\frac{mgd}{I\\omega}$$\n",
    "\n",
    "\n",
    "Where:\n",
    "- $\\omega_P$ is the angular frequency of precession\n",
    "- $m$ is the mass of the gyroscope\n",
    "- $g$ is the acceleration due to gravity \n",
    "- $d$ is the distance from the center of gravity\n",
    "- $I$ is the moment of inertia\n",
    "- $\\omega$ is the angular frequency of gyroscope rotation\n",
    "\n",
    "The Gyroscope has 18 spokes (equally spaced). Therefore $\\Delta t_{rot}$ is the same as the duration between two spokes, multiplied by 18. Or, the duration elapsed over any 18 spokes.\n",
    "\n",
    "So that means that $$\\omega = \\frac{2\\pi}{\\Delta t_{rot}}$$\n",
    "\n",
    "\n",
    "To determine whether this relationship is sufficient, the time periods for the precession were measured:\n",
    "\n",
    "$$\\omega_P = \\frac{2\\pi}{\\Delta t_P}$$\n",
    "\n",
    "\n",
    "\n",
    "\n",
    "\n"
   ]
  },
  {
   "cell_type": "markdown",
   "metadata": {},
   "source": [
    "#### Define Functions"
   ]
  },
  {
   "cell_type": "code",
   "execution_count": 124,
   "metadata": {},
   "outputs": [],
   "source": [
    "def angular_freq(time_period):\n",
    "    return np.pi * 2 / time_period\n",
    "\n",
    "def relation_angular_precession_freq(gyroscope_mass,distance_to_CoG,moment_of_inertia,rotation_angular_freq,g=9.81):\n",
    "    return (gyroscope_mass*distance_to_CoG*g)/(moment_of_inertia * rotation_angular_freq)"
   ]
  },
  {
   "cell_type": "markdown",
   "metadata": {},
   "source": [
    "#### Input Data"
   ]
  },
  {
   "cell_type": "code",
   "execution_count": 125,
   "metadata": {},
   "outputs": [],
   "source": [
    "gyro_distances_from_axis = np.abs(np.array([7.9,6.02,3.41,9.52,1.91,7.72])-gyroscope_center_of_gravity)\n",
    "\n",
    "gyro_rotation_time_periods = {\n",
    "    1: np.sum([0.044,0.043,0.044,0.043,0.044,0.044,0.045,0.044,0.045,0.045,0.045,0.044,0.045,0.044,0.046,0.045,0.044,0.045]),\n",
    "    2: np.sum([0.036,0.036,0.036,0.037,0.036,0.037,0.036,0.037,0.037,0.037,0.036,0.038,0.036,0.037,0.037,0.037,0.036]),#Missed One Data Point Here, so it isn't a full rotation\n",
    "    3: np.sum([0.036,0.037,0.036,0.037,0.036,0.037,0.035,0.036,0.035,0.036,0.036,0.036,0.036,0.036,0.035,0.036,0.035,0.036]),\n",
    "    4: np.sum([0.036,0.035,0.035,0.035,0.035,0.036,0.035,0.035,0.035,0.032,0.003,0.035,0.036,0.036,0.037,0.036,0.037,0.035]),\n",
    "    5: np.sum([0.034,0.035,0.034,0.035,0.035,0.035,0.035,0.035,0.035,0.034,0.034,0.036,0.034,0.035,0.034,0.035,0.034,0.034]),\n",
    "    6: np.mean(\n",
    "        np.array(\n",
    "            [\n",
    "                np.sum([0.036,0.038,0.036,0.038,0.037,0.037,0.037,0.038,0.037,0.038,0.036,0.037,0.037,0.037,0.036,0.038,0.037]),\n",
    "                np.sum([0.030,0.029,0.029,0.029,0.027,0.002,0.029,0.003,0.029,0.029,0.029,0.029,0.028,0.029,0.028,0.028,0.028])\n",
    "            ]\n",
    "            )\n",
    "            )\n",
    "}\n",
    "\n",
    "gyro_precession_time_periods = {\n",
    "    1: 9.94,\n",
    "    2: 51.28,\n",
    "    3: 12.78,\n",
    "    4: 6.43,\n",
    "    5: 7.62,\n",
    "    6: np.mean([12.37,16.15])\n",
    "\n",
    "}\n"
   ]
  },
  {
   "cell_type": "markdown",
   "metadata": {},
   "source": [
    "#### Calculation of Precession Freq using the time period"
   ]
  },
  {
   "cell_type": "code",
   "execution_count": 126,
   "metadata": {},
   "outputs": [
    {
     "data": {
      "text/plain": [
       "array([0.6321112 , 0.12252701, 0.49164204, 0.97716723, 0.824565  ,\n",
       "       0.44061608])"
      ]
     },
     "execution_count": 126,
     "metadata": {},
     "output_type": "execute_result"
    }
   ],
   "source": [
    "gyro_precession_t = np.array(list(gyro_precession_time_periods.values()))\n",
    "gyro_precession_calculated_freq = angular_freq(gyro_precession_t)\n",
    "gyro_precession_calculated_freq"
   ]
  },
  {
   "cell_type": "markdown",
   "metadata": {},
   "source": [
    "#### Calculation of Precession Frequency using\n",
    "\n",
    "$$\\omega_P = \\frac{mgd}{I\\omega}$$"
   ]
  },
  {
   "cell_type": "code",
   "execution_count": 127,
   "metadata": {},
   "outputs": [
    {
     "name": "stdout",
     "output_type": "stream",
     "text": [
      " Angular frequencies of gyroscope rotation = [ 7.8638114  10.1015841   9.71126013 10.40262468 10.08536967 11.79940903]\n",
      "Angular Frequency of Precession from equation = [1.09514941 0.44157425 0.13415853 1.17175821 0.45761086 0.69618481]\n",
      "Gyroscope Precession Angular Frequency from time period = [0.6321112  0.12252701 0.49164204 0.97716723 0.824565   0.44061608]\n"
     ]
    }
   ],
   "source": [
    "gyro_rot_time_period = np.array(list(gyro_rotation_time_periods.values()))\n",
    "gyro_rot_angular_frequency = angular_freq(gyro_rot_time_period)\n",
    "print(f\" Angular frequencies of gyroscope rotation = {gyro_rot_angular_frequency}\")\n",
    "relation_angular_precession_frequency_value = relation_angular_precession_freq(\n",
    "    gyroscope_mass=gyroscope_mass,\n",
    "    distance_to_CoG= np.abs(gyro_distances_from_axis),\n",
    "    moment_of_inertia=Gyroscope_moment_of_inertia,\n",
    "    rotation_angular_freq=gyro_rot_angular_frequency,\n",
    "    g=981\n",
    ")\n",
    "print(f\"Angular Frequency of Precession from equation = {relation_angular_precession_frequency_value}\")\n",
    "print(f\"Gyroscope Precession Angular Frequency from time period = {gyro_precession_calculated_freq}\")"
   ]
  },
  {
   "cell_type": "markdown",
   "metadata": {},
   "source": [
    "### Errors in Calc\n",
    "\n"
   ]
  },
  {
   "cell_type": "code",
   "execution_count": 128,
   "metadata": {},
   "outputs": [],
   "source": [
    "def precession_partial_m(distance_from_CoG,moment_of_inertia,rotation_angular_freq,g=9.81):\n",
    "    return (g*distance_from_CoG)/(moment_of_inertia*rotation_angular_freq)\n",
    "\n",
    "def precession_partial_d(gyro_mass,moment_of_inertia,rotation_angular_freq,g=9.81):\n",
    "    return (gyro_mass*g)/(moment_of_inertia*rotation_angular_freq)\n",
    "\n",
    "def precession_partial_I(gyro_mass,distance_to_CoG,rotation_angular_freq,moment_of_inertia,g=9.81):\n",
    "    return -(gyro_mass*g*distance_to_CoG)/(rotation_angular_freq * (moment_of_inertia**2))\n",
    "\n",
    "def precession_partial_omega(gyro_mass,distance_to_CoG,rotation_angular_freq,moment_of_inertia,g=9.81):\n",
    "    return -(gyro_mass * g * distance_to_CoG)/(moment_of_inertia * (rotation_angular_freq**2))\n",
    "\n",
    "\n",
    "\n",
    "def precession_partial_period_rotation(time_period):\n",
    "    return -(2*np.pi)/(time_period**2)"
   ]
  },
  {
   "cell_type": "markdown",
   "metadata": {},
   "source": [
    "##### Gyroscope Rotation"
   ]
  },
  {
   "cell_type": "code",
   "execution_count": 129,
   "metadata": {},
   "outputs": [
    {
     "name": "stdout",
     "output_type": "stream",
     "text": [
      "Gyroscope Rotation Time Period Error = [0.03594867]\n",
      "Gyroscope Rotation Angular Frequency Error = 1.4538568306438648\n"
     ]
    }
   ],
   "source": [
    "\n",
    "gyro_rot_time_error = np.array(pd.DataFrame(gyro_rot_time_period).sem())\n",
    "print(f\"Gyroscope Rotation Time Period Error = {gyro_rot_time_error}\")\n",
    "precession_rotation_error = np.sqrt(np.sum((np.abs(precession_partial_period_rotation(gyro_rot_time_period))*gyro_rot_time_error)**2))\n",
    "print(f\"Gyroscope Rotation Angular Frequency Error = {precession_rotation_error}\")"
   ]
  },
  {
   "cell_type": "markdown",
   "metadata": {},
   "source": [
    "#### Gyroscope Precession"
   ]
  },
  {
   "cell_type": "code",
   "execution_count": 130,
   "metadata": {},
   "outputs": [
    {
     "name": "stdout",
     "output_type": "stream",
     "text": [
      "Gyroscope Precession Angular Frequency Relation Error = 0.29576608106366903\n"
     ]
    }
   ],
   "source": [
    "gyroscope_precession_freq_error = np.sqrt(\n",
    "    np.sum(\n",
    "        [\n",
    "            (precession_partial_m(gyro_distances_from_axis,Gyroscope_moment_of_inertia,gyro_rot_angular_frequency,981) * gyroscope_mass_error) **2,\n",
    "            (precession_partial_d(gyroscope_mass,Gyroscope_moment_of_inertia,gyro_rot_angular_frequency,981)*0.003)**2,\n",
    "            (precession_partial_I(gyroscope_mass,gyro_distances_from_axis,gyro_rot_angular_frequency,Gyroscope_moment_of_inertia,981)*Gyroscope_moment_of_inertia_error)**2,\n",
    "            (precession_partial_omega(gyroscope_mass,gyro_distances_from_axis,gyro_rot_angular_frequency,Gyroscope_moment_of_inertia,981)*precession_rotation_error)**2\n",
    "        ]\n",
    "    )\n",
    ")\n",
    "\n",
    "print(f\"Gyroscope Precession Angular Frequency Relation Error = {gyroscope_precession_freq_error}\")"
   ]
  },
  {
   "cell_type": "code",
   "execution_count": 131,
   "metadata": {},
   "outputs": [],
   "source": [
    "gyro_precession_x_data = np.abs(gyro_distances_from_axis)/gyro_rot_angular_frequency\n",
    "\n",
    "\n",
    "precession_fit_x = np.linspace(0,max(gyro_precession_x_data),10000)\n",
    "\n",
    "precession_linear_fit_coefficients = np.polynomial.polynomial.polyfit(gyro_precession_x_data,relation_angular_precession_frequency_value,1,)\n",
    "\n",
    "precession_linear_fit = np.polynomial.polynomial.Polynomial(precession_linear_fit_coefficients)"
   ]
  },
  {
   "cell_type": "code",
   "execution_count": 132,
   "metadata": {},
   "outputs": [],
   "source": [
    "precession_fit_coefficients_period = np.polynomial.polynomial.polyfit(gyro_precession_x_data,gyro_precession_calculated_freq,1)\n",
    "precession_fit_period = np.polynomial.polynomial.Polynomial(precession_fit_coefficients_period)"
   ]
  },
  {
   "cell_type": "code",
   "execution_count": 144,
   "metadata": {},
   "outputs": [
    {
     "name": "stdout",
     "output_type": "stream",
     "text": [
      "a=array([2.20821755e+00, 1.35973996e-16])\n",
      "precession_linear_fit_coefficients = array([4.07921987e-16, 2.20821755e+00])\n",
      "[[2.36547975e-17            nan]\n",
      " [           nan 8.15748402e-18]]\n"
     ]
    },
    {
     "name": "stderr",
     "output_type": "stream",
     "text": [
      "/var/folders/0y/2j4r476n4859g4w7hklsh2r80000gn/T/ipykernel_65876/3447593220.py:6: RuntimeWarning: invalid value encountered in sqrt\n",
      "  print(np.sqrt(cov_mat) / len(gyro_precession_x_data))\n"
     ]
    }
   ],
   "source": [
    "a,cov_mat = np.polyfit(gyro_precession_x_data,relation_angular_precession_frequency_value,1,cov=True)\n",
    "\n",
    "print(f\"{a=}\")\n",
    "print(f\"{precession_linear_fit_coefficients = }\")\n",
    "\n",
    "print(np.sqrt(cov_mat) / len(gyro_precession_x_data))"
   ]
  },
  {
   "cell_type": "code",
   "execution_count": 134,
   "metadata": {},
   "outputs": [
    {
     "data": {
      "image/png": "[encoded data removed]",
      "text/plain": [
       "<Figure size 800x800 with 1 Axes>"
      ]
     },
     "metadata": {},
     "output_type": "display_data"
    }
   ],
   "source": [
    "fig,ax = plt.subplots(figsize=(8,8))\n",
    "ax.scatter(gyro_precession_x_data,relation_angular_precession_frequency_value,label=\"$\\\\omega_{P,Relation}$\",s=10,marker=\"x\",color=\"red\")\n",
    "ax.plot(precession_fit_x,precession_linear_fit(precession_fit_x),label=\"Linear Fit $\\\\omega_P = \\\\frac{mgd}{I\\\\omega}$\",ls=\"dashed\",color=\"green\")\n",
    "#ax.scatter(np.abs(gyro_distances_from_axis)/gyro_rot_angular_frequency,gyro_precession_calculated_freq,label=\"$\\omega_P$ from $\\\\frac{2\\pi}{T_P}$\",s=15,marker=\"+\",color=\"black\")\n",
    "#ax.plot(precession_fit_x,precession_fit_period(precession_fit_x),label=\"Linear Fit using measured time period\", ls=\"dashed\",color=\"purple\")\n",
    "ax.set_xlabel(\"$\\\\frac{d}{\\\\omega}$ \")\n",
    "ax.plot(precession_fit_x,precession_linear_fit(precession_fit_x)+gyroscope_precession_freq_error,alpha=0.5)\n",
    "ax.fill_between(precession_fit_x,precession_linear_fit(precession_fit_x)+gyroscope_precession_freq_error,precession_linear_fit(precession_fit_x)-gyroscope_precession_freq_error,alpha=0.25,label=\"Error\")\n",
    "ax.plot(precession_fit_x,precession_linear_fit(precession_fit_x)-gyroscope_precession_freq_error,alpha=0.5)\n",
    "ax.set_ylabel(\"$\\\\omega_P$ rad/s\")\n",
    "ax.set_xlim(0,max(gyro_precession_x_data))\n",
    "ax.set_ylim(0,)\n",
    "ax.minorticks_on()\n",
    "fig.legend()\n",
    "plt.show()"
   ]
  },
  {
   "cell_type": "code",
   "execution_count": 135,
   "metadata": {},
   "outputs": [
    {
     "data": {
      "image/png": "[encoded data removed]",
      "text/plain": [
       "<Figure size 600x600 with 1 Axes>"
      ]
     },
     "metadata": {},
     "output_type": "display_data"
    }
   ],
   "source": [
    "fig,ax = plt.subplots(figsize=(6,6))\n",
    "ax.plot(relation_angular_precession_frequency_value*gyro_rot_angular_frequency,gyro_distances_from_axis)\n",
    "ax.set_ylabel(\"$\\\\omega_P\\\\omega$\")\n",
    "ax.set_xlabel(\"$d$\")\n",
    "ax.set_xlim(0,)\n",
    "ax.set_ylim(0,)\n",
    "ax.set_xticks(np.arange(0,13))\n",
    "ax.minorticks_on()\n",
    "#ax.set_aspect('scaled')\n",
    "#fig.gca().set_aspect(\"equal\",adjustable=\"box\")\n",
    "#fig.legend()\n",
    "plt.show()\n"
   ]
  },
  {
   "cell_type": "code",
   "execution_count": 136,
   "metadata": {},
   "outputs": [
    {
     "data": {
      "text/plain": [
       "np.float64(2.2082175510822086)"
      ]
     },
     "execution_count": 136,
     "metadata": {},
     "output_type": "execute_result"
    }
   ],
   "source": [
    "np.mean(precession_linear_fit(np.linspace(0.00000001,0.5,10000))/np.linspace(0.00000001,0.5,10000))"
   ]
  },
  {
   "cell_type": "markdown",
   "metadata": {},
   "source": [
    "#### Errors in the Calculation:\n",
    "\n"
   ]
  },
  {
   "cell_type": "code",
   "execution_count": 137,
   "metadata": {},
   "outputs": [
    {
     "data": {
      "text/plain": [
       "np.float64(0.07013433653914916)"
      ]
     },
     "execution_count": 137,
     "metadata": {},
     "output_type": "execute_result"
    }
   ],
   "source": [
    "# Gradient Error Relation\n",
    "\n",
    "np.sqrt(\n",
    "    np.sum(\n",
    "        [\n",
    "            ((981/Gyroscope_moment_of_inertia)*gyroscope_mass_error)**2,\n",
    "            ((gyroscope_mass*981/((Gyroscope_moment_of_inertia)**2))*Gyroscope_moment_of_inertia_error)**2\n",
    "        ]\n",
    "    )\n",
    ")"
   ]
  },
  {
   "cell_type": "code",
   "execution_count": 138,
   "metadata": {},
   "outputs": [
    {
     "data": {
      "text/plain": [
       "array([3.9 , 2.02, 0.59, 5.52, 2.09, 3.72])"
      ]
     },
     "execution_count": 138,
     "metadata": {},
     "output_type": "execute_result"
    }
   ],
   "source": [
    "gyro_distances_from_axis"
   ]
  },
  {
   "cell_type": "markdown",
   "metadata": {},
   "source": [
    "### 3.0 Nutation\n",
    "\n",
    "\n",
    "\n",
    "\n",
    "The Gyroscope has 18 spokes (equally spaced). Therefore $\\Delta t$ is the same as the duration between two spokes, multiplied by 18. Or, the duration elapsed over any 18 spokes.\n",
    "\n",
    "\n",
    "Relation between \n",
    "\n",
    "$\\omega$ and $\\omega_n$"
   ]
  },
  {
   "cell_type": "code",
   "execution_count": 139,
   "metadata": {},
   "outputs": [],
   "source": [
    "nutation_time_period_error = 0.001\n",
    "\n",
    "\n",
    "nutation_rotation_time_periods = np.array([\n",
    "    np.sum([0.062,0.062,0.064,0.064,0.064,0.066,0.065,0.065,0.065,0.064,0.063,0.063,0.063,0.063,0.063,0.067,0.065,0.064]),\n",
    "    np.sum([0.047,0.047,0.045,0.045,0.044,0.044,0.044,0.043,0.045,0.045,0.045,0.046,0.046,0.047,0.044,0.044,0.043,0.044]),\n",
    "    np.sum([0.310,0.305,0.313,0.308,0.320,0.319,0.306,0.297,0.307,0.294,0.296,0.301,0.292,0.331,0.319,0.317,0.310,0.315]),\n",
    "    np.sum([0.118,0.130,0.124,0.126,0.128,0.122,0.127,0.127,0.129,0.132,0.129,0.124,0.122,0.122,0.119,0.123,0.122,0.125]),\n",
    "    np.sum([0.033,0.034,0.033,0.033,0.035,0.034,0.035,0.033,0.033,0.032,0.033,0.033,0.033,0.034,0.034,0.034,0.035,0.034])\n",
    "])\n",
    "\n",
    "nutation_nutation_time_periods = np.array([0.78,0.56,3.59,1.53,0.37])\n",
    "nutation_nutation_time_period_error = np.array(pd.DataFrame(nutation_nutation_time_periods).sem())\n",
    "\n",
    "nutation_rotation_angular_frequency = angular_freq(nutation_rotation_time_periods)\n",
    "\n",
    "nutation_nutation_angular_frequency = angular_freq(nutation_nutation_time_periods)"
   ]
  },
  {
   "cell_type": "markdown",
   "metadata": {},
   "source": [
    "## Fit Data"
   ]
  },
  {
   "cell_type": "code",
   "execution_count": 140,
   "metadata": {},
   "outputs": [],
   "source": [
    "nutation_fit_coeff = np.polynomial.polynomial.polyfit(nutation_rotation_angular_frequency,nutation_nutation_angular_frequency,1)\n",
    "nutation_fit = np.polynomial.polynomial.Polynomial(nutation_fit_coeff)\n",
    "\n",
    "nutation_fit_x = np.linspace(0,max(nutation_rotation_angular_frequency),10000)"
   ]
  },
  {
   "cell_type": "code",
   "execution_count": 141,
   "metadata": {},
   "outputs": [
    {
     "name": "stdout",
     "output_type": "stream",
     "text": [
      "nutation_rot_ang_freq_err = array([0.00311359])\n",
      "nutation_nutation_ang_freq_err = array([4.86414418])\n"
     ]
    }
   ],
   "source": [
    "nutation_rot_ang_freq_err = np.array(pd.DataFrame(np.sqrt(\n",
    "    ((2*np.pi/(nutation_rotation_time_periods**2))*0.001)**2\n",
    ")).sem())\n",
    "print(f\"{nutation_rot_ang_freq_err = }\")\n",
    "\n",
    "\n",
    "nutation_nutation_ang_freq_err = np.array(pd.DataFrame(\n",
    "    np.sqrt(\n",
    "        ((2*np.pi/((nutation_nutation_time_periods)**2))*nutation_nutation_time_period_error)**2\n",
    "    )\n",
    ").sem()\n",
    ")\n",
    "\n",
    "print(f\"{nutation_nutation_ang_freq_err = }\")"
   ]
  },
  {
   "cell_type": "code",
   "execution_count": 142,
   "metadata": {},
   "outputs": [
    {
     "data": {
      "text/plain": [
       "array([-4.86414418])"
      ]
     },
     "execution_count": 142,
     "metadata": {},
     "output_type": "execute_result"
    }
   ],
   "source": [
    "-nutation_nutation_ang_freq_err"
   ]
  },
  {
   "cell_type": "code",
   "execution_count": 143,
   "metadata": {},
   "outputs": [
    {
     "data": {
      "image/png": "[encoded data removed]",
      "text/plain": [
       "<Figure size 600x600 with 1 Axes>"
      ]
     },
     "metadata": {},
     "output_type": "display_data"
    }
   ],
   "source": [
    "fig, ax = plt.subplots(figsize=(6,6))\n",
    "ax.errorbar(x=nutation_rotation_angular_frequency,y=nutation_nutation_angular_frequency,xerr=nutation_rot_ang_freq_err, yerr=nutation_nutation_ang_freq_err,label=\"Experimental Results\",marker=\"x\",color=\"black\",ls=\"none\",capsize=5)\n",
    "#ax.fill_between(nutation_fit_x,nutation_fit(nutation_fit_x)+nutation_nutation_ang_freq_err,nutation_fit(nutation_fit_x)-nutation_nutation_ang_freq_err,alpha=0.5)\n",
    "ax.plot(nutation_fit_x,nutation_fit(nutation_fit_x),ls=\"dashed\",color=\"green\",label=f\"Linear Fit $y \\\\approx $ {nutation_fit_coeff[1]:.2f}$x$ - {np.abs(nutation_fit_coeff[0]):.2f}\")\n",
    "ax.set_ylabel(\"$\\\\omega_n$ rad/s\")\n",
    "ax.set_xlabel(\"$\\\\omega$ rad/s\")\n",
    "ax.set_xlim(0,max(nutation_rotation_angular_frequency)+0.1)\n",
    "ax.set_ylim(-5,)\n",
    "#ax.set_yticks(np.arange(-5,25,1))\n",
    "ax.minorticks_on()\n",
    "fig.legend()\n",
    "plt.show()"
   ]
  }
 ],
 "metadata": {
  "kernelspec": {
   "display_name": "Python 3",
   "language": "python",
   "name": "python3"
  },
  "language_info": {
   "codemirror_mode": {
    "name": "ipython",
    "version": 3
   },
   "file_extension": ".py",
   "mimetype": "text/x-python",
   "name": "python",
   "nbconvert_exporter": "python",
   "pygments_lexer": "ipython3",
   "version": "3.13.2"
  }
 },
 "nbformat": 4,
 "nbformat_minor": 2
}
